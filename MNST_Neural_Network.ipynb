{
 "cells": [
  {
   "cell_type": "code",
   "execution_count": 1,
   "metadata": {},
   "outputs": [],
   "source": [
    "import pandas as pd\n",
    "import matplotlib.pyplot as plt\n",
    "import numpy as np"
   ]
  },
  {
   "cell_type": "code",
   "execution_count": 34,
   "metadata": {},
   "outputs": [],
   "source": [
    "## Read Data from csv file\n",
    "from data_loader import BaseDataLoader\n",
    "import os\n",
    "\n",
    "colnames = list(pd.read_csv(os.path.join(\"data\", \"train.csv\")).columns)\n",
    "X, y = BaseDataLoader(os.path.join(\"data\", \"train.csv\"), colnames[1:], colnames[0]).get_data()\n",
    "\n",
    "\n",
    "from sklearn.model_selection import train_test_split\n",
    "X_train, X_test, y_train, y_test = train_test_split(X, y, test_size = 0.3, random_state = 42)"
   ]
  },
  {
   "cell_type": "code",
   "execution_count": 35,
   "metadata": {},
   "outputs": [],
   "source": [
    "## We need to split the database into test and train\n",
    "\n",
    "import pandas as pd\n",
    "\n",
    "y_train = pd.get_dummies(y_train[\"label\"])\n",
    "y_test = pd.get_dummies(y_test[\"label\"])"
   ]
  },
  {
   "cell_type": "code",
   "execution_count": 36,
   "metadata": {},
   "outputs": [
    {
     "name": "stdout",
     "output_type": "stream",
     "text": [
      "Epoch 1/10\n",
      "2940/2940 [==============================] - 18s 6ms/step - loss: 2.7056 - accuracy: 0.8161 - val_loss: 0.2333 - val_accuracy: 0.9322\n",
      "Epoch 2/10\n",
      "2940/2940 [==============================] - 17s 6ms/step - loss: 0.2594 - accuracy: 0.9292 - val_loss: 0.2370 - val_accuracy: 0.9378\n",
      "Epoch 3/10\n",
      "2940/2940 [==============================] - 18s 6ms/step - loss: 0.2100 - accuracy: 0.9434 - val_loss: 0.2040 - val_accuracy: 0.9532\n",
      "Epoch 4/10\n",
      "2940/2940 [==============================] - 17s 6ms/step - loss: 0.1625 - accuracy: 0.9566 - val_loss: 0.1755 - val_accuracy: 0.9592\n",
      "Epoch 5/10\n",
      "2940/2940 [==============================] - 21s 7ms/step - loss: 0.1687 - accuracy: 0.9615 - val_loss: 0.1503 - val_accuracy: 0.9608\n",
      "Epoch 6/10\n",
      "2940/2940 [==============================] - 20s 7ms/step - loss: 0.1193 - accuracy: 0.9709 - val_loss: 0.2195 - val_accuracy: 0.9484\n",
      "Epoch 7/10\n",
      "2940/2940 [==============================] - 21s 7ms/step - loss: 0.1378 - accuracy: 0.9683 - val_loss: 0.2296 - val_accuracy: 0.9560\n",
      "Epoch 8/10\n",
      "2940/2940 [==============================] - 20s 7ms/step - loss: 0.1260 - accuracy: 0.9743 - val_loss: 0.2059 - val_accuracy: 0.9648\n",
      "Epoch 9/10\n",
      "2940/2940 [==============================] - 20s 7ms/step - loss: 0.1187 - accuracy: 0.9752 - val_loss: 0.2013 - val_accuracy: 0.9556\n",
      "Epoch 10/10\n",
      "2940/2940 [==============================] - 19s 7ms/step - loss: 0.1089 - accuracy: 0.9779 - val_loss: 0.2062 - val_accuracy: 0.9657\n"
     ]
    },
    {
     "data": {
      "text/plain": [
       "<tensorflow.python.keras.callbacks.History at 0x7f95c2e30250>"
      ]
     },
     "execution_count": 36,
     "metadata": {},
     "output_type": "execute_result"
    }
   ],
   "source": [
    "## Trying a big neural network\n",
    "\n",
    "from tensorflow.keras.models import Sequential\n",
    "from tensorflow.keras.layers import Dense\n",
    "\n",
    "model = Sequential()\n",
    "model.add(Dense(784, input_shape=(784, ), activation='relu'))\n",
    "model.add(Dense(392, activation='relu'))\n",
    "model.add(Dense(196, activation='relu'))\n",
    "model.add(Dense(98, activation='relu'))\n",
    "model.add(Dense(10, activation='softmax'))\n",
    "\n",
    "model.compile(loss='categorical_crossentropy', optimizer='adam', metrics=['accuracy'])\n",
    "\n",
    "model.fit(np.array(X_train), np.array(y_train), \n",
    "            validation_data = (np.array(X_test), np.array(y_test)), \n",
    "            epochs=10,\n",
    "            batch_size=10)"
   ]
  },
  {
   "cell_type": "code",
   "execution_count": 48,
   "metadata": {},
   "outputs": [
    {
     "name": "stdout",
     "output_type": "stream",
     "text": [
      "Accuracy is 0.9657142857142857\n",
      "F1 Score is [0.97410604 0.98878843 0.96728972 0.95997035 0.96326868 0.96248856\n",
      " 0.9784345  0.9682243  0.95018836 0.94177413]\n"
     ]
    }
   ],
   "source": [
    "## results are pretty reasonable\n",
    "\n",
    "from sklearn.metrics import f1_score, accuracy_score\n",
    "\n",
    "y_pred_test = np.argmax(model.predict(X_test), axis = 1)\n",
    "\n",
    "y_test_labels = np.argmax(np.array(y_test), axis = 1)\n",
    "\n",
    "\n",
    "print(f\"Accuracy is {accuracy_score(y_test_labels, y_pred_test)}\")\n",
    "print(f\"F1 Score is {f1_score(y_test_labels, y_pred_test, average = None)}\")"
   ]
  },
  {
   "cell_type": "code",
   "execution_count": 49,
   "metadata": {},
   "outputs": [
    {
     "name": "stdout",
     "output_type": "stream",
     "text": [
      "Epoch 1/10\n",
      "2940/2940 [==============================] - 20s 7ms/step - loss: 6.3913 - accuracy: 0.8238 - val_loss: 0.3646 - val_accuracy: 0.9174\n",
      "Epoch 2/10\n",
      "2940/2940 [==============================] - 19s 6ms/step - loss: 0.3458 - accuracy: 0.9187 - val_loss: 0.3691 - val_accuracy: 0.9171\n",
      "Epoch 3/10\n",
      "2940/2940 [==============================] - 19s 7ms/step - loss: 0.3027 - accuracy: 0.9308 - val_loss: 0.3479 - val_accuracy: 0.9146\n",
      "Epoch 4/10\n",
      "2940/2940 [==============================] - 18s 6ms/step - loss: 0.2793 - accuracy: 0.9357 - val_loss: 0.3185 - val_accuracy: 0.9329\n",
      "Epoch 5/10\n",
      "2940/2940 [==============================] - 20s 7ms/step - loss: 0.2145 - accuracy: 0.9474 - val_loss: 0.2327 - val_accuracy: 0.9483\n",
      "Epoch 6/10\n",
      "2940/2940 [==============================] - 16s 6ms/step - loss: 0.1963 - accuracy: 0.9535 - val_loss: 0.2396 - val_accuracy: 0.9439\n",
      "Epoch 7/10\n",
      "2940/2940 [==============================] - 17s 6ms/step - loss: 0.1960 - accuracy: 0.9542 - val_loss: 0.3563 - val_accuracy: 0.9448\n",
      "Epoch 8/10\n",
      "2940/2940 [==============================] - 17s 6ms/step - loss: 0.1707 - accuracy: 0.9620 - val_loss: 0.2471 - val_accuracy: 0.9490\n",
      "Epoch 9/10\n",
      "2940/2940 [==============================] - 17s 6ms/step - loss: 0.1591 - accuracy: 0.9626 - val_loss: 0.3099 - val_accuracy: 0.9387\n",
      "Epoch 10/10\n",
      "2940/2940 [==============================] - 17s 6ms/step - loss: 0.1679 - accuracy: 0.9630 - val_loss: 0.3132 - val_accuracy: 0.9476\n"
     ]
    },
    {
     "data": {
      "text/plain": [
       "<tensorflow.python.keras.callbacks.History at 0x7f95ccba9190>"
      ]
     },
     "execution_count": 49,
     "metadata": {},
     "output_type": "execute_result"
    }
   ],
   "source": [
    "## Trying a slightly smaller network, results are marginally less\n",
    "## This is likely due to not requiring many more layers as the results are unlikely to yield more benefit\n",
    "\n",
    "from tensorflow.keras.models import Sequential\n",
    "from tensorflow.keras.layers import Dense\n",
    "\n",
    "model = Sequential()\n",
    "model.add(Dense(784, input_shape=(784, ), activation='relu'))\n",
    "model.add(Dense(400, activation='relu'))\n",
    "model.add(Dense(10, activation='softmax'))\n",
    "\n",
    "model.compile(loss='categorical_crossentropy', optimizer='adam', metrics=['accuracy'])\n",
    "\n",
    "model.fit(np.array(X_train), np.array(y_train), \n",
    "            validation_data = (np.array(X_test), np.array(y_test)), \n",
    "            epochs=10,\n",
    "            batch_size=10)"
   ]
  },
  {
   "cell_type": "code",
   "execution_count": 51,
   "metadata": {},
   "outputs": [
    {
     "name": "stdout",
     "output_type": "stream",
     "text": [
      "Accuracy is 0.9476190476190476\n",
      "F1 Score is [0.98619824 0.96901408 0.95848161 0.9579895  0.95694557 0.94853295\n",
      " 0.96111339 0.94777266 0.85590466 0.94249069]\n"
     ]
    }
   ],
   "source": [
    "## Said results not being any major improvement\n",
    "\n",
    "from sklearn.metrics import f1_score, accuracy_score\n",
    "\n",
    "y_pred_test = np.argmax(model.predict(X_test), axis = 1)\n",
    "\n",
    "y_test_labels = np.argmax(np.array(y_test), axis = 1)\n",
    "\n",
    "\n",
    "print(f\"Accuracy is {accuracy_score(y_test_labels, y_pred_test)}\")\n",
    "print(f\"F1 Score is {f1_score(y_test_labels, y_pred_test, average = None)}\")"
   ]
  },
  {
   "cell_type": "code",
   "execution_count": null,
   "metadata": {},
   "outputs": [],
   "source": []
  }
 ],
 "metadata": {
  "kernelspec": {
   "display_name": "Python 3.8.10 64-bit",
   "language": "python",
   "name": "python3"
  },
  "language_info": {
   "codemirror_mode": {
    "name": "ipython",
    "version": 3
   },
   "file_extension": ".py",
   "mimetype": "text/x-python",
   "name": "python",
   "nbconvert_exporter": "python",
   "pygments_lexer": "ipython3",
   "version": "3.8.10"
  },
  "vscode": {
   "interpreter": {
    "hash": "916dbcbb3f70747c44a77c7bcd40155683ae19c65e1c03b4aa3499c5328201f1"
   }
  }
 },
 "nbformat": 4,
 "nbformat_minor": 4
}
